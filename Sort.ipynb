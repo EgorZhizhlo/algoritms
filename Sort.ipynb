{
 "cells": [
  {
   "cell_type": "code",
   "execution_count": 25,
   "metadata": {},
   "outputs": [],
   "source": [
    "arr = [1, 3, 3, 4, 5, 6, 7, 2, 3, 4, 5, 1, 6, 2, 9]"
   ]
  },
  {
   "cell_type": "markdown",
   "metadata": {},
   "source": [
    "Сортировка пузырьком"
   ]
  },
  {
   "cell_type": "markdown",
   "metadata": {},
   "source": [
    "Принцип алгоритма: двигаем больший элемент вправо"
   ]
  },
  {
   "cell_type": "code",
   "execution_count": 26,
   "metadata": {},
   "outputs": [
    {
     "data": {
      "text/plain": [
       "[1, 1, 2, 2, 3, 3, 3, 4, 4, 5, 5, 6, 6, 7, 9]"
      ]
     },
     "execution_count": 26,
     "metadata": {},
     "output_type": "execute_result"
    }
   ],
   "source": [
    "\n",
    "for i in range(len(arr)):\n",
    "    for j in range(i + 1, len(arr)):\n",
    "        if arr[i] >= arr[j]:\n",
    "            t = arr[i]\n",
    "            arr[i] = arr[j]\n",
    "            arr[j] = t\n",
    "arr "
   ]
  },
  {
   "cell_type": "markdown",
   "metadata": {},
   "source": [
    "Сортировка выбором"
   ]
  },
  {
   "cell_type": "markdown",
   "metadata": {},
   "source": [
    "Принцип алгоритма: двигаем меньший элемент влево"
   ]
  },
  {
   "cell_type": "markdown",
   "metadata": {},
   "source": [
    "Описание алгоритма: за минимальный элемент берется элемент с 0 индексом, а далее сравнивается с каждым другим элементом в массиве и если находится элемент меньше, то минимальный элемнт обновляется. Когда будет пройден весь массив данных, то произойдет проверка равен ли начальный минимум минимуму после прохода массива. Если элементы не равны, то меняем эти элементы местами. Тем самым получаем, что минимальный элемент становится в начале, а далее совершаем такие же действия начиная с 1, 2 и тд."
   ]
  },
  {
   "cell_type": "code",
   "execution_count": 27,
   "metadata": {},
   "outputs": [],
   "source": [
    "arr = [1, 3, 3, 4, 5, 6, 7, 2, 3, 4, 5, 1, 6, 2, 9]"
   ]
  },
  {
   "cell_type": "code",
   "execution_count": 28,
   "metadata": {},
   "outputs": [
    {
     "data": {
      "text/plain": [
       "[1, 1, 2, 2, 3, 3, 3, 4, 4, 5, 5, 6, 6, 7, 9]"
      ]
     },
     "execution_count": 28,
     "metadata": {},
     "output_type": "execute_result"
    }
   ],
   "source": [
    "for i in range(len(arr)):\n",
    "    min_ind = i\n",
    "    for j in range(i + 1, len(arr)):\n",
    "        if arr[min_ind] > arr[j]:\n",
    "            min_ind = j\n",
    "        \n",
    "    if min_ind != i:\n",
    "        temp = arr[min_ind]\n",
    "        arr[min_ind] = arr[i]\n",
    "        arr[i] = temp\n",
    "arr"
   ]
  },
  {
   "cell_type": "markdown",
   "metadata": {},
   "source": [
    "Сортировка вставками"
   ]
  },
  {
   "cell_type": "markdown",
   "metadata": {},
   "source": [
    "Принцип алгоритма: берем подмассив(начальная подстрока равна массиву из элемента с индексом 0 в начальном массиве), сортируем его если необходимо, а далее добавляем каждый последующий элемент основного массива с сохранением отсортированности элементов в подмассиве."
   ]
  },
  {
   "cell_type": "code",
   "execution_count": 29,
   "metadata": {},
   "outputs": [],
   "source": [
    "arr = [1, 3, 3, 4, 5, 6, 7, 2, 3, 4, 5, 1, 6, 2, 9]"
   ]
  },
  {
   "cell_type": "code",
   "execution_count": 30,
   "metadata": {},
   "outputs": [
    {
     "data": {
      "text/plain": [
       "[1, 1, 2, 2, 3, 3, 3, 4, 4, 5, 5, 6, 6, 7, 9]"
      ]
     },
     "execution_count": 30,
     "metadata": {},
     "output_type": "execute_result"
    }
   ],
   "source": [
    "for i in range(len(arr)):\n",
    "    sorted = i - 1\n",
    "    while sorted > -1 and arr[sorted] > arr[sorted + 1]:\n",
    "        temp = arr[sorted]\n",
    "        arr[sorted] = arr[sorted + 1]\n",
    "        arr[sorted + 1] = temp\n",
    "        sorted -= 1\n",
    "\n",
    "arr "
   ]
  },
  {
   "cell_type": "markdown",
   "metadata": {},
   "source": [
    "Сортировка Хоаре"
   ]
  },
  {
   "cell_type": "code",
   "execution_count": 29,
   "metadata": {},
   "outputs": [],
   "source": [
    "arr = [1, 3, 3, 4, 5, 6, 7, 2, 3, 4, 5, 1, 6, 2, 9]"
   ]
  },
  {
   "cell_type": "code",
   "execution_count": 36,
   "metadata": {},
   "outputs": [
    {
     "data": {
      "text/plain": [
       "[1, 1, 2, 2, 3, 3, 3, 4, 4, 5, 5, 6, 6, 7, 9]"
      ]
     },
     "execution_count": 36,
     "metadata": {},
     "output_type": "execute_result"
    }
   ],
   "source": [
    "def sorted_subarr(left, right):\n",
    "    pivot = arr[(left + right) // 2]\n",
    "    while left <= right:\n",
    "        while pivot > arr[left]:\n",
    "            left += 1\n",
    "        while pivot < arr[right]:\n",
    "            right -= 1\n",
    "\n",
    "        if left <= right:\n",
    "            temp = arr[left]\n",
    "            arr[left] = arr[right]\n",
    "            arr[right] = temp\n",
    "            left += 1\n",
    "            right -= 1\n",
    "    return left\n",
    "\n",
    "\n",
    "def quick_sort(start, end):\n",
    "    if start >= end:\n",
    "        return 0\n",
    "    left = sorted_subarr(start, end)\n",
    "    quick_sort(start, left - 1)\n",
    "    quick_sort(left, end)\n",
    "\n",
    "quick_sort(0, len(arr) - 1)\n",
    "arr"
   ]
  },
  {
   "cell_type": "markdown",
   "metadata": {},
   "source": [
    "Доделать сортировку слиянием и подсчетом"
   ]
  }
 ],
 "metadata": {
  "kernelspec": {
   "display_name": ".venv",
   "language": "python",
   "name": "python3"
  },
  "language_info": {
   "codemirror_mode": {
    "name": "ipython",
    "version": 3
   },
   "file_extension": ".py",
   "mimetype": "text/x-python",
   "name": "python",
   "nbconvert_exporter": "python",
   "pygments_lexer": "ipython3",
   "version": "3.12.4"
  }
 },
 "nbformat": 4,
 "nbformat_minor": 2
}
