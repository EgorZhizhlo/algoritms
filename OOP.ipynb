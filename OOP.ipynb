{
 "cells": [
  {
   "cell_type": "markdown",
   "metadata": {},
   "source": [
    "# Объектно ориентированное программирование"
   ]
  },
  {
   "cell_type": "markdown",
   "metadata": {},
   "source": [
    "Класс - шаблон или чертеж для создания объектов\n",
    "Экземпляр - конкретный объект, созданный на основе этого шаблона(класса)\n",
    "Каждый экземпляр может содержать свое количество атрибутов и методов\n",
    "Атрибут - переменная, которая хранится в экземпляре класса\n",
    "Атрибут может быть привязан конкретно к экземпляру или к самому классу\n",
    "Метод - функция, которая определена внутри класса и которую можно применить к атрибутам класса\n",
    "Методы экземпляра — это обычные методы, которые работают с конкретным объектом. Они могут получать доступ к атрибутам экземпляра через параметр self.\n",
    "Методы класса — это методы, которые работают с самим классом, а не с экземплярами. Они обозначаются декоратором @classmethod и получают доступ к атрибутам класса через параметр cls.\n",
    "Статические методы — это методы, которые не имеют доступа ни к атрибутам экземпляра, ни к атрибутам класса. Они полезны, если метод выполняет независимые операции, связанные с классом. Такие методы обозначаются декоратором @staticmethod."
   ]
  },
  {
   "cell_type": "code",
   "execution_count": 10,
   "metadata": {},
   "outputs": [],
   "source": [
    "class Car:\n",
    "    wheels = 4  # Атрибут класса\n",
    "    def __init__(self, make, model): # Экземпляр класса\n",
    "        self.make = make    # Атрибут экземпляра\n",
    "        self.model = model    # Атрибут экземпляра\n"
   ]
  },
  {
   "cell_type": "code",
   "execution_count": 2,
   "metadata": {},
   "outputs": [
    {
     "name": "stdout",
     "output_type": "stream",
     "text": [
      "Toyota\n",
      "Corolla\n",
      "Honda\n",
      "Civic\n",
      "4\n",
      "4\n"
     ]
    }
   ],
   "source": [
    "car1 = Car(\"Toyota\", \"Corolla\") # Объект класса\n",
    "car2 = Car(\"Honda\", \"Civic\") # Объект класса\n",
    "\n",
    "# Доступ к атрибутам экземпляра\n",
    "print(car1.make)   # Toyota\n",
    "print(car1.model)  # Corolla\n",
    "print(car2.make)   # Honda\n",
    "print(car2.model)  # Civic\n",
    "\n",
    "# Доступ к атрибуту класса\n",
    "print(car1.wheels)  # 4\n",
    "print(car2.wheels)  # 4"
   ]
  },
  {
   "cell_type": "code",
   "execution_count": 18,
   "metadata": {},
   "outputs": [
    {
     "name": "stdout",
     "output_type": "stream",
     "text": [
      "Buddy says: Woof!\n",
      "Canis lupus familiaris\n",
      "Canis lupus familiaris\n"
     ]
    },
    {
     "data": {
      "text/plain": [
       "8"
      ]
     },
     "execution_count": 18,
     "metadata": {},
     "output_type": "execute_result"
    }
   ],
   "source": [
    "class Dog:\n",
    "    species = \"Canis lupus familiaris\"  # Атрибут класса\n",
    "    def __init__(self, name):\n",
    "        self.name = name  # Атрибут экземпляра\n",
    "\n",
    "    def bark(self):  # Метод экземпляра\n",
    "        print(f\"{self.name} says: Woof!\")\n",
    "\n",
    "    @classmethod # Метод класса\n",
    "    def get_species(cls):\n",
    "        print(cls.species)\n",
    "\n",
    "    @staticmethod\n",
    "    def add(a, b):\n",
    "        num = a\n",
    "        return a + b\n",
    "\n",
    "dog = Dog(\"Buddy\") # Экземпляр класса\n",
    "dog.bark() # если вызвать функцию обратившись не к объекту класса, а к самому классу, то будет выдана ошибка\n",
    "Dog.get_species() # возможен вызов как из объекта, так и из класса напрямую\n",
    "dog.get_species()\n",
    "dog.add(3, 5) # статический метод(задача просто получить какие-то значения вне класса и выдать результат)"
   ]
  },
  {
   "cell_type": "markdown",
   "metadata": {},
   "source": [
    "# Основные паттерны программирования"
   ]
  },
  {
   "cell_type": "markdown",
   "metadata": {},
   "source": [
    "* Singleton (Одиночка)\n",
    "    * Паттерн гарантирует, что у класса есть только один экземпляр, и предоставляет глобальную точку доступа к этому экземпляру. В Python можно использовать метаклассы или переопределение методов __new__ и __init__ для реализации одиночки."
   ]
  },
  {
   "cell_type": "code",
   "execution_count": null,
   "metadata": {},
   "outputs": [],
   "source": [
    "class Singleton:\n",
    "    _instance = None\n",
    "\n",
    "    def __new__(cls, *args, **kwargs):\n",
    "        if not cls._instance:\n",
    "            cls._instance = super(Singleton, cls).__new__(cls, *args, **kwargs)\n",
    "        return cls._instance\n",
    "\n",
    "singleton1 = Singleton()\n",
    "singleton2 = Singleton()\n",
    "\n",
    "print(singleton1 is singleton2)  # True\n"
   ]
  },
  {
   "cell_type": "markdown",
   "metadata": {},
   "source": [
    "* Factory Method (Фабричный метод)\n",
    "    * Цель: определить интерфейс для создания объектов, но позволить подклассам изменять тип создаваемых объектов."
   ]
  }
 ],
 "metadata": {
  "kernelspec": {
   "display_name": ".venv",
   "language": "python",
   "name": "python3"
  },
  "language_info": {
   "codemirror_mode": {
    "name": "ipython",
    "version": 3
   },
   "file_extension": ".py",
   "mimetype": "text/x-python",
   "name": "python",
   "nbconvert_exporter": "python",
   "pygments_lexer": "ipython3",
   "version": "3.12.4"
  }
 },
 "nbformat": 4,
 "nbformat_minor": 2
}
